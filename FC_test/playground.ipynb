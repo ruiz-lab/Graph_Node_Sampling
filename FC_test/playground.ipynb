{
 "cells": [
  {
   "cell_type": "code",
   "execution_count": 1,
   "metadata": {},
   "outputs": [],
   "source": [
    "import torch\n",
    "import torch.nn as nn\n",
    "import torch.nn.functional as F\n",
    "import os\n",
    "import torch_geometric as pyg\n",
    "from torch_geometric.datasets import Planetoid"
   ]
  },
  {
   "cell_type": "code",
   "execution_count": 2,
   "metadata": {},
   "outputs": [
    {
     "name": "stdout",
     "output_type": "stream",
     "text": [
      "torch.Size([2708, 1433])\n",
      "1433\n",
      "torch.Size([3327, 3703])\n",
      "3703\n",
      "torch.Size([19717, 500])\n",
      "500\n"
     ]
    }
   ],
   "source": [
    "dataset_name_ls = ['Cora', 'CiteSeer', 'PubMed']\n",
    "for dataset in dataset_name_ls:\n",
    "    source = Planetoid(root='./data', name=dataset)\n",
    "    data = source[0]\n",
    "    # print(data.num_nodes)\n",
    "    print(data.x.size())\n",
    "    print(data.num_features)"
   ]
  }
 ],
 "metadata": {
  "kernelspec": {
   "display_name": "pytorch",
   "language": "python",
   "name": "python3"
  },
  "language_info": {
   "codemirror_mode": {
    "name": "ipython",
    "version": 3
   },
   "file_extension": ".py",
   "mimetype": "text/x-python",
   "name": "python",
   "nbconvert_exporter": "python",
   "pygments_lexer": "ipython3",
   "version": "3.11.5"
  }
 },
 "nbformat": 4,
 "nbformat_minor": 2
}
