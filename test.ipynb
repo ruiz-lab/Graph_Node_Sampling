{
 "cells": [
  {
   "cell_type": "code",
   "execution_count": 1,
   "metadata": {},
   "outputs": [],
   "source": [
    "import numpy as np"
   ]
  },
  {
   "cell_type": "code",
   "execution_count": 53,
   "metadata": {},
   "outputs": [],
   "source": [
    "n = 100\n",
    "d = 5\n",
    "A = np.random.choice([0,1], size=(n,n))\n",
    "for i in range(n):\n",
    "    for j in range(n):\n",
    "        if i < j:\n",
    "            A[i,j] = A[j,i]\n",
    "X = np.random.normal(size=(d,n))\n",
    "entrywise_rst = np.trace(A @ X.T @ X)\n",
    "evalues, evecs = np.linalg.eigh(A) \n",
    "Sigma_half = np.diag(np.sqrt(evalues.astype(np.complex128)))\n",
    "A_half = evecs @ Sigma_half\n",
    "M_half = X @ A_half\n",
    "M = M_half @ M_half.T\n",
    "eigen_rst = np.trace(M)"
   ]
  },
  {
   "cell_type": "code",
   "execution_count": 54,
   "metadata": {},
   "outputs": [
    {
     "data": {
      "text/plain": [
       "True"
      ]
     },
     "execution_count": 54,
     "metadata": {},
     "output_type": "execute_result"
    }
   ],
   "source": [
    "np.allclose(A_half @ A_half.T, A)"
   ]
  },
  {
   "cell_type": "code",
   "execution_count": 56,
   "metadata": {},
   "outputs": [
    {
     "data": {
      "text/plain": [
       "(238.27788398409166, (238.2778839840907+0j))"
      ]
     },
     "execution_count": 56,
     "metadata": {},
     "output_type": "execute_result"
    }
   ],
   "source": [
    "entrywise_rst, eigen_rst"
   ]
  }
 ],
 "metadata": {
  "kernelspec": {
   "display_name": "pytorch",
   "language": "python",
   "name": "python3"
  },
  "language_info": {
   "codemirror_mode": {
    "name": "ipython",
    "version": 3
   },
   "file_extension": ".py",
   "mimetype": "text/x-python",
   "name": "python",
   "nbconvert_exporter": "python",
   "pygments_lexer": "ipython3",
   "version": "3.11.5"
  }
 },
 "nbformat": 4,
 "nbformat_minor": 2
}
