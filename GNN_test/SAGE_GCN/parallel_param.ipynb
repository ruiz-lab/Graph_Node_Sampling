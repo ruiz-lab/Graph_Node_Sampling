{
 "cells": [
  {
   "cell_type": "code",
   "execution_count": 6,
   "metadata": {},
   "outputs": [
    {
     "name": "stderr",
     "output_type": "stream",
     "text": [
      "100%|██████████| 10368/10368 [00:35<00:00, 294.85it/s]\n"
     ]
    }
   ],
   "source": [
    "import wandb\n",
    "from tqdm import tqdm\n",
    "\n",
    "# Authenticate\n",
    "wandb.login()\n",
    "\n",
    "# Initialize API\n",
    "api = wandb.Api()\n",
    "\n",
    "# Retrieve runs\n",
    "runs = api.runs(\"jamesli-wks-johns-hopkins-university/SAGE_GCN_hyperparameter_tuning_JULY_24\")\n",
    "\n",
    "# Extract parameters and metrics\n",
    "data = []\n",
    "for run in tqdm(runs):\n",
    "    summary = run.summary._json_dict\n",
    "    config = {k: v for k, v in run.config.items() if not k[0] == \"_\"}\n",
    "    config.update(summary)\n",
    "    data.append(config)\n",
    "\n",
    "# Convert to DataFrame for easier manipulation\n",
    "import pandas as pd\n",
    "df = pd.DataFrame(data)\n",
    "df = df[[col for col in df.columns if not col.startswith('_')]]"
   ]
  },
  {
   "cell_type": "code",
   "execution_count": 16,
   "metadata": {},
   "outputs": [],
   "source": [
    "df = df[['hidden_dim', 'model_type', 'num_epochs', 'trace_type', 'sample_rate',\n",
    "       'dataset_name', 'weight_decay', 'learning_rate', 'exclusion_type','activation_type', 'num_hidden_layers','test_acc']]"
   ]
  },
  {
   "cell_type": "code",
   "execution_count": 27,
   "metadata": {},
   "outputs": [],
   "source": [
    "dataset_name_ls = ['CoraGraphDataset', 'CiteseerGraphDataset', 'PubmedGraphDataset']\n",
    "target_sample_rate = 0.7\n",
    "rst_df = pd.DataFrame()\n",
    "for dataset_name in dataset_name_ls:\n",
    "    sub_df = df[(df['dataset_name'] == dataset_name) & (df['sample_rate'] == target_sample_rate)]\n",
    "    sub_df = sub_df.sort_values(by='test_acc', ascending=False)\n",
    "    rst_df = pd.concat([rst_df, sub_df.head(5)])\n",
    "with open(\"top5_hyper_param_no_restriction.csv\", \"w\") as f:\n",
    "    f.write(rst_df.to_csv(index=False))"
   ]
  },
  {
   "cell_type": "code",
   "execution_count": 33,
   "metadata": {},
   "outputs": [],
   "source": [
    "dataset_name_ls = ['CoraGraphDataset', 'CiteseerGraphDataset', 'PubmedGraphDataset']\n",
    "target_sample_rate = 0.7\n",
    "trace_type_ls = ['Laplacian', 'Feature']\n",
    "exclusion_type_ls = ['Smallest', 'Largest']\n",
    "for trace_type in trace_type_ls:\n",
    "    for exclusion_type in exclusion_type_ls:\n",
    "        rst_df = pd.DataFrame()\n",
    "        for dataset_name in dataset_name_ls:\n",
    "            sub_df = df[(df['dataset_name'] == dataset_name) & (df['sample_rate'] == target_sample_rate) & (df['trace_type'] == trace_type) & (df['exclusion_type'] == exclusion_type)]\n",
    "            sub_df = sub_df.sort_values(by='test_acc', ascending=False)\n",
    "            rst_df = pd.concat([rst_df, sub_df.head(5)])\n",
    "        with open(f\"top5_hyper_param_{trace_type}_{exclusion_type}.csv\", \"w\") as f:\n",
    "            f.write(rst_df.to_csv(index=False))"
   ]
  },
  {
   "cell_type": "code",
   "execution_count": 35,
   "metadata": {},
   "outputs": [
    {
     "name": "stderr",
     "output_type": "stream",
     "text": [
      "Downloading http://snap.stanford.edu/ogb/data/nodeproppred/mag.zip\n",
      "Extracting ../data/mag/raw/mag.zip\n",
      "Processing...\n",
      "Done!\n"
     ]
    },
    {
     "name": "stdout",
     "output_type": "stream",
     "text": [
      "Number of nodes: 1939743\n",
      "Number of edges: 21111007\n",
      "Number of node types: 4\n",
      "Number of edge types: 4\n"
     ]
    }
   ],
   "source": [
    "from torch_geometric.datasets import OGB_MAG\n",
    "\n",
    "# Load the dataset\n",
    "dataset = OGB_MAG(root='../data/')\n",
    "\n",
    "# Access the data\n",
    "data = dataset[0]  # The dataset contains only one graph\n",
    "\n",
    "# Print basic information\n",
    "print(f\"Number of nodes: {data.num_nodes}\")\n",
    "print(f\"Number of edges: {data.num_edges}\")\n",
    "print(f\"Number of node types: {len(data.node_types)}\")\n",
    "print(f\"Number of edge types: {len(data.edge_types)}\")"
   ]
  },
  {
   "cell_type": "code",
   "execution_count": 40,
   "metadata": {},
   "outputs": [],
   "source": [
    "paper_nodes = data['paper']"
   ]
  },
  {
   "cell_type": "code",
   "execution_count": 50,
   "metadata": {},
   "outputs": [
    {
     "data": {
      "text/plain": [
       "tensor([[      0,       0,       0,  ..., 1134647, 1134648, 1134648],\n",
       "        [  19703,  289285,  311768,  ...,  657395,  671118,  719594]])"
      ]
     },
     "execution_count": 50,
     "metadata": {},
     "output_type": "execute_result"
    }
   ],
   "source": [
    "data['author', 'writes', 'paper'].edge_index"
   ]
  },
  {
   "cell_type": "code",
   "execution_count": 56,
   "metadata": {},
   "outputs": [
    {
     "data": {
      "text/plain": [
       "tensor([[     0,      0,      0,  ..., 736388, 736388, 736388],\n",
       "        [    88,  27449, 121051,  ..., 421711, 427339, 439864]])"
      ]
     },
     "execution_count": 56,
     "metadata": {},
     "output_type": "execute_result"
    }
   ],
   "source": [
    "data['paper', 'cites', 'paper'].edge_index"
   ]
  },
  {
   "cell_type": "code",
   "execution_count": 61,
   "metadata": {},
   "outputs": [
    {
     "data": {
      "text/plain": [
       "1134649"
      ]
     },
     "execution_count": 61,
     "metadata": {},
     "output_type": "execute_result"
    }
   ],
   "source": [
    "data['author'].num_nodes"
   ]
  },
  {
   "cell_type": "code",
   "execution_count": 4,
   "metadata": {},
   "outputs": [
    {
     "name": "stdout",
     "output_type": "stream",
     "text": [
      "torch.int64 torch.int64 torch.int64\n",
      "tensor([[1, 2, 3, 0, 0],\n",
      "        [0, 0, 4, 5, 6],\n",
      "        [0, 0, 0, 0, 0],\n",
      "        [0, 0, 0, 0, 0]])\n"
     ]
    }
   ],
   "source": [
    "import torch\n",
    "\n",
    "output = torch.zeros(4, 5, dtype=torch.int64)\n",
    "src = torch.tensor([[1, 2, 3], [4, 5, 6]])\n",
    "index = torch.tensor([[0, 1, 2], [2, 3, 4]])\n",
    "print(output.dtype, src.dtype, index.dtype)\n",
    "output.scatter_add_(1, index, src)\n",
    "print(output)"
   ]
  },
  {
   "cell_type": "code",
   "execution_count": 4,
   "metadata": {},
   "outputs": [
    {
     "data": {
      "image/png": "[encoded data removed]",
      "text/plain": [
       "<Figure size 640x480 with 1 Axes>"
      ]
     },
     "metadata": {},
     "output_type": "display_data"
    }
   ],
   "source": [
    "import sys\n",
    "sys.path.append('../')\n",
    "from utils import *\n",
    "import torch\n",
    "import seaborn as sns\n",
    "import matplotlib.pyplot as plt\n",
    "\n",
    "OGB_MAG = load_ogbn_mag()\n",
    "y = OGB_MAG.y\n",
    "sns.histplot(y)\n",
    "plt.xlabel(\"classes\")\n",
    "plt.title(\"Distribution of classes\")\n",
    "plt.savefig(\"../img/ogbn_class_distribution.png\")"
   ]
  },
  {
   "cell_type": "code",
   "execution_count": 1,
   "metadata": {},
   "outputs": [
    {
     "name": "stdout",
     "output_type": "stream",
     "text": [
      "Data(x=[148, 1433], edge_index=[2, 127], y=[148], train_mask=[148], val_mask=[148], test_mask=[148], n_id=[148], e_id=[127], input_id=[32], batch_size=32)\n"
     ]
    },
    {
     "name": "stderr",
     "output_type": "stream",
     "text": [
      "/home/jamesl/anaconda3/envs/pytorch/lib/python3.11/site-packages/torch_geometric/sampler/neighbor_sampler.py:60: UserWarning: Using 'NeighborSampler' without a 'pyg-lib' installation is deprecated and will be removed soon. Please install 'pyg-lib' for accelerated neighborhood sampling\n",
      "  warnings.warn(f\"Using '{self.__class__.__name__}' without a \"\n"
     ]
    }
   ],
   "source": [
    "import torch\n",
    "from torch_geometric.datasets import Planetoid\n",
    "from torch_geometric.loader import NeighborLoader\n",
    "\n",
    "dataset = Planetoid(root='../data/', name='Cora')\n",
    "loader = NeighborLoader(dataset[0], num_neighbors=[-1], batch_size=32, shuffle=True)\n",
    "\n",
    "for batch in loader:\n",
    "    print(batch)\n",
    "    break"
   ]
  },
  {
   "cell_type": "code",
   "execution_count": 4,
   "metadata": {},
   "outputs": [
    {
     "data": {
      "text/plain": [
       "Data(x=[2708, 1433], edge_index=[2, 10556], y=[2708], train_mask=[2708], val_mask=[2708], test_mask=[2708])"
      ]
     },
     "execution_count": 4,
     "metadata": {},
     "output_type": "execute_result"
    }
   ],
   "source": [
    "dataset[0]"
   ]
  },
  {
   "cell_type": "code",
   "execution_count": 3,
   "metadata": {},
   "outputs": [
    {
     "data": {
      "text/plain": [
       "Data(x=[148, 1433], edge_index=[2, 127], y=[148], train_mask=[148], val_mask=[148], test_mask=[148], n_id=[148], e_id=[127], input_id=[32], batch_size=32)"
      ]
     },
     "execution_count": 3,
     "metadata": {},
     "output_type": "execute_result"
    }
   ],
   "source": [
    "batch"
   ]
  }
 ],
 "metadata": {
  "kernelspec": {
   "display_name": "Python 3",
   "language": "python",
   "name": "python3"
  },
  "language_info": {
   "codemirror_mode": {
    "name": "ipython",
    "version": 3
   },
   "file_extension": ".py",
   "mimetype": "text/x-python",
   "name": "python",
   "nbconvert_exporter": "python",
   "pygments_lexer": "ipython3",
   "version": "3.11.5"
  }
 },
 "nbformat": 4,
 "nbformat_minor": 2
}
