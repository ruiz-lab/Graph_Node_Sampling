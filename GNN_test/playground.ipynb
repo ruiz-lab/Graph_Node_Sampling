{
 "cells": [
  {
   "cell_type": "code",
   "execution_count": 1,
   "metadata": {},
   "outputs": [
    {
     "name": "stderr",
     "output_type": "stream",
     "text": [
      "/home/jamesl/anaconda3/envs/pytorch/lib/python3.11/site-packages/tqdm/auto.py:21: TqdmWarning: IProgress not found. Please update jupyter and ipywidgets. See https://ipywidgets.readthedocs.io/en/stable/user_install.html\n",
      "  from .autonotebook import tqdm as notebook_tqdm\n"
     ]
    }
   ],
   "source": [
    "import torch\n",
    "import torch_geometric as pyg\n",
    "import torch.nn as nn\n",
    "import torch.optim as optim\n",
    "import torch.nn.functional as F\n",
    "import torch_geometric as pyg\n",
    "import numpy as np\n",
    "import matplotlib.pyplot as plt\n",
    "from torch_geometric.datasets import Planetoid\n",
    "from scipy.sparse.linalg import eigs, eigsh\n",
    "import seaborn as sns\n",
    "import dgl\n",
    "from utils import *"
   ]
  },
  {
   "cell_type": "code",
   "execution_count": 6,
   "metadata": {},
   "outputs": [],
   "source": [
    "def SBM_Prob_Matrix(data:Data):\n",
    "    edge_index = data.edge_index\n",
    "    y = data.y\n",
    "    Prob_Matrix = torch.zeros((data.num_classes, data.num_classes))\n",
    "    for (node_1, node_2) in edge_index.T:\n",
    "        Prob_Matrix[y[node_1]][y[node_2]] += 1\n",
    "        Prob_Matrix[y[node_2]][y[node_1]] += 1\n",
    "    Prob_Matrix = Prob_Matrix / data.num_edges\n",
    "    return Prob_Matrix"
   ]
  },
  {
   "cell_type": "code",
   "execution_count": 7,
   "metadata": {},
   "outputs": [
    {
     "name": "stdout",
     "output_type": "stream",
     "text": [
      "  NumNodes: 2708\n",
      "  NumEdges: 10556\n",
      "  NumFeats: 1433\n",
      "  NumClasses: 7\n",
      "  NumTrainingSamples: 140\n",
      "  NumValidationSamples: 500\n",
      "  NumTestSamples: 1000\n",
      "Done loading data from cached files.\n",
      "  NumNodes: 3327\n",
      "  NumEdges: 9228\n",
      "  NumFeats: 3703\n",
      "  NumClasses: 6\n",
      "  NumTrainingSamples: 120\n",
      "  NumValidationSamples: 500\n",
      "  NumTestSamples: 1000\n",
      "Done loading data from cached files.\n",
      "  NumNodes: 19717\n",
      "  NumEdges: 88651\n",
      "  NumFeats: 500\n",
      "  NumClasses: 3\n",
      "  NumTrainingSamples: 60\n",
      "  NumValidationSamples: 500\n",
      "  NumTestSamples: 1000\n",
      "Done loading data from cached files.\n",
      "Done loading data from cached files.\n",
      "Done loading data from cached files.\n",
      "Done loading data from cached files.\n",
      "Done loading data from cached files.\n",
      "Done loading data from cached files.\n"
     ]
    }
   ],
   "source": [
    "dataset_name_ls = ['CoraGraphDataset', 'CiteseerGraphDataset', 'PubmedGraphDataset', 'TexasDataset', 'WisconsinDataset', 'CornellDataset', 'SquirrelDataset', 'ChameleonDataset']\n",
    "SBM_Prob_dict = {}\n",
    "for dataset_name in dataset_name_ls:\n",
    "    dataset = dgl.data.__getattribute__(dataset_name)()\n",
    "    data = convert_dgl_to_pyg(dataset)\n",
    "    Prob_Matrix = SBM_Prob_Matrix(data)\n",
    "    SBM_Prob_dict[dataset_name] = Prob_Matrix"
   ]
  },
  {
   "cell_type": "code",
   "execution_count": 8,
   "metadata": {},
   "outputs": [
    {
     "data": {
      "text/plain": [
       "{'CoraGraphDataset': tensor([[2.0235e-01, 6.0629e-03, 4.3577e-03, 3.0504e-02, 1.6673e-02, 1.4210e-02,\n",
       "          1.5157e-02],\n",
       "         [6.0629e-03, 1.5498e-01, 1.1747e-02, 1.2694e-02, 3.7893e-03, 5.3050e-03,\n",
       "          3.7893e-04],\n",
       "         [4.3577e-03, 1.1747e-02, 3.1338e-01, 1.0042e-02, 3.7893e-04, 5.6840e-03,\n",
       "          3.7893e-04],\n",
       "         [3.0504e-02, 1.2694e-02, 1.0042e-02, 4.4524e-01, 2.5957e-02, 1.0231e-02,\n",
       "          3.0315e-03],\n",
       "         [1.6673e-02, 3.7893e-03, 3.7893e-04, 2.5957e-02, 2.5009e-01, 3.5998e-03,\n",
       "          1.1368e-03],\n",
       "         [1.4210e-02, 5.3050e-03, 5.6840e-03, 1.0231e-02, 3.5998e-03, 1.5801e-01,\n",
       "          8.7154e-03],\n",
       "         [1.5157e-02, 3.7893e-04, 3.7893e-04, 3.0315e-03, 1.1368e-03, 8.7154e-03,\n",
       "          9.5870e-02]]),\n",
       " 'CiteseerGraphDataset': tensor([[0.0453, 0.0241, 0.0100, 0.0145, 0.0202, 0.0046],\n",
       "         [0.0241, 0.2003, 0.0516, 0.0130, 0.0171, 0.0061],\n",
       "         [0.0100, 0.0516, 0.4538, 0.0390, 0.0102, 0.0139],\n",
       "         [0.0145, 0.0130, 0.0390, 0.2833, 0.0108, 0.0074],\n",
       "         [0.0202, 0.0171, 0.0102, 0.0108, 0.3021, 0.0186],\n",
       "         [0.0046, 0.0061, 0.0139, 0.0074, 0.0186, 0.1933]]),\n",
       " 'PubmedGraphDataset': tensor([[0.2352, 0.0377, 0.0840],\n",
       "         [0.0377, 0.6571, 0.0759],\n",
       "         [0.0840, 0.0759, 0.7125]]),\n",
       " 'TexasDataset': tensor([[0.0185, 0.0000, 0.0369, 0.3108, 0.1662],\n",
       "         [0.0000, 0.0000, 0.0062, 0.0000, 0.0000],\n",
       "         [0.0369, 0.0062, 0.0369, 0.2000, 0.0923],\n",
       "         [0.3108, 0.0000, 0.2000, 0.1231, 0.0800],\n",
       "         [0.1662, 0.0000, 0.0923, 0.0800, 0.0369]]),\n",
       " 'WisconsinDataset': tensor([[0.0039, 0.0117, 0.0000, 0.0097, 0.0233],\n",
       "         [0.0117, 0.2291, 0.4097, 0.1049, 0.0175],\n",
       "         [0.0000, 0.4097, 0.0854, 0.1029, 0.0816],\n",
       "         [0.0097, 0.1049, 0.1029, 0.0272, 0.0427],\n",
       "         [0.0233, 0.0175, 0.0816, 0.0427, 0.0466]]),\n",
       " 'CornellDataset': tensor([[0.0805, 0.0369, 0.1309, 0.4060, 0.0101],\n",
       "         [0.0369, 0.0268, 0.0101, 0.0235, 0.0403],\n",
       "         [0.1309, 0.0101, 0.0000, 0.0973, 0.0436],\n",
       "         [0.4060, 0.0235, 0.0973, 0.1141, 0.0705],\n",
       "         [0.0101, 0.0403, 0.0436, 0.0705, 0.0403]]),\n",
       " 'SquirrelDataset': tensor([[0.0451, 0.0472, 0.0426, 0.0490, 0.0717],\n",
       "         [0.0472, 0.0562, 0.0610, 0.0710, 0.0948],\n",
       "         [0.0426, 0.0610, 0.0790, 0.0930, 0.1115],\n",
       "         [0.0490, 0.0710, 0.0930, 0.1115, 0.1341],\n",
       "         [0.0717, 0.0948, 0.1115, 0.1341, 0.1561]]),\n",
       " 'ChameleonDataset': tensor([[0.0595, 0.1249, 0.0441, 0.0406, 0.0448],\n",
       "         [0.1249, 0.0658, 0.0585, 0.0486, 0.0574],\n",
       "         [0.0441, 0.0585, 0.1037, 0.1016, 0.1100],\n",
       "         [0.0406, 0.0486, 0.1016, 0.1137, 0.1345],\n",
       "         [0.0448, 0.0574, 0.1100, 0.1345, 0.1274]])}"
      ]
     },
     "execution_count": 8,
     "metadata": {},
     "output_type": "execute_result"
    }
   ],
   "source": [
    "SBM_Prob_dict"
   ]
  },
  {
   "cell_type": "code",
   "execution_count": 2,
   "metadata": {},
   "outputs": [
    {
     "data": {
      "text/plain": [
       "19717"
      ]
     },
     "execution_count": 2,
     "metadata": {},
     "output_type": "execute_result"
    }
   ],
   "source": [
    "data = Planetoid(root='data/Planetoid', name='PubMed')\n",
    "data = data[0]\n",
    "data.num_nodes"
   ]
  },
  {
   "cell_type": "code",
   "execution_count": 5,
   "metadata": {},
   "outputs": [
    {
     "data": {
      "text/plain": [
       "tensor([[0.0000, 0.0000, 0.0000,  ..., 0.0000, 0.0000, 0.0000],\n",
       "        [0.0000, 0.0000, 0.0000,  ..., 0.0000, 0.0000, 0.0000],\n",
       "        [0.1046, 0.0000, 0.0000,  ..., 0.0000, 0.0000, 0.0000],\n",
       "        ...,\n",
       "        [0.0000, 0.0194, 0.0080,  ..., 0.0000, 0.0000, 0.0000],\n",
       "        [0.1078, 0.0000, 0.0000,  ..., 0.0000, 0.0000, 0.0000],\n",
       "        [0.0000, 0.0266, 0.0000,  ..., 0.0000, 0.0000, 0.0000]])"
      ]
     },
     "execution_count": 5,
     "metadata": {},
     "output_type": "execute_result"
    }
   ],
   "source": [
    "data.x"
   ]
  },
  {
   "cell_type": "code",
   "execution_count": 10,
   "metadata": {},
   "outputs": [
    {
     "data": {
      "text/plain": [
       "12.98105416656167"
      ]
     },
     "execution_count": 10,
     "metadata": {},
     "output_type": "execute_result"
    }
   ],
   "source": [
    "19717**3 / 2700**3 * 2 / 60"
   ]
  },
  {
   "cell_type": "code",
   "execution_count": 17,
   "metadata": {},
   "outputs": [],
   "source": [
    "import torch\n",
    "import torch_geometric.utils as pyg_utils\n",
    "\n",
    "# Original edge indices\n",
    "edge_index = torch.tensor([[0, 1, 2, 3], [1, 2, 3, 0]], dtype=torch.long)\n",
    "\n",
    "# Mask indicating which nodes to include in the subgraph\n",
    "include_nodes = torch.tensor([False, False, True, True], dtype=torch.bool)\n",
    "\n",
    "# Correctly extracting the subgraph\n",
    "sub_edge_index, _ = pyg_utils.subgraph(include_nodes, edge_index, relabel_nodes=True)\n",
    "\n",
    "# Create a new Data object for the subgraph\n",
    "sub_data = pyg.data.Data(edge_index=sub_edge_index)\n"
   ]
  },
  {
   "cell_type": "code",
   "execution_count": 2,
   "metadata": {},
   "outputs": [],
   "source": [
    "def homophily_score(data):\n",
    "    X = data.x\n",
    "    norm_x_ls = []\n",
    "    norm_x_ls.append(torch.linalg.norm(X, ord=2, dim=1))\n",
    "    normed_X = X / (norm_x_ls[-1].unsqueeze(1) + 1e-6)\n",
    "    A = pyg.utils.to_dense_adj(data.edge_index).squeeze()\n",
    "    H_score = torch.trace(A @ normed_X @ normed_X.T) / data.num_edges\n",
    "    return H_score.item()"
   ]
  },
  {
   "cell_type": "code",
   "execution_count": 3,
   "metadata": {},
   "outputs": [
    {
     "name": "stdout",
     "output_type": "stream",
     "text": [
      "Cora: 0.16765451431274414, random_SBM: 0.06422016769647598, overall_random: 0.05663285776972771\n",
      "p: tensor([0.0174, 0.0349, 0.0190, 0.0070, 0.0146, 0.0188, 0.0314])\n",
      "q: tensor([0.0034, 0.0031, 0.0034, 0.0046, 0.0035, 0.0033, 0.0031])\n",
      "CiteSeer: 0.19063380360603333, random_SBM: 0.04877884313464165, overall_random: 0.04410294443368912\n",
      "p: tensor([0.0056, 0.0052, 0.0093, 0.0051, 0.0078, 0.0068])\n",
      "q: tensor([0.0019, 0.0022, 0.0020, 0.0023, 0.0021, 0.0021])\n",
      "PubMed: 0.2718951106071472, random_SBM: 0.07406949996948242, overall_random: 0.07239408046007156\n",
      "p: tensor([0.0012, 0.0010, 0.0010])\n",
      "q: tensor([0.0006, 0.0008, 0.0008])\n"
     ]
    }
   ],
   "source": [
    "import networkx as nx\n",
    "import numpy as np\n",
    "import utils\n",
    "\n",
    "dataset_name_ls = ['Cora', 'CiteSeer', 'PubMed']\n",
    "for dataset_name in dataset_name_ls:\n",
    "    source = Planetoid(root='../data', name=dataset_name)\n",
    "    data = source[0]\n",
    "    overall_random = utils.overall_random_graph(data)\n",
    "    random_SBM, p_ls, q_ls = utils.random_SBM_graph(data)\n",
    "    print(f\"{dataset_name}: {homophily_score(data)}, random_SBM: {homophily_score(random_SBM)}, overall_random: {homophily_score(overall_random)}\")\n",
    "    print(f\"p: {p_ls}\\nq: {q_ls}\")\n"
   ]
  },
  {
   "cell_type": "code",
   "execution_count": 28,
   "metadata": {},
   "outputs": [],
   "source": [
    "def homophily_score2(x, edge_index):\n",
    "    norm_x_ls = []\n",
    "    norm_x_ls.append(torch.linalg.norm(x, ord=2, dim=1))\n",
    "    normed_X = x / (norm_x_ls[-1].unsqueeze(1) + 1e-6)\n",
    "    A = pyg.utils.to_dense_adj(edge_index).squeeze()\n",
    "    H_score = torch.trace(A @ normed_X @ normed_X.T) / edge_index.size(1)\n",
    "    return H_score.item()"
   ]
  },
  {
   "cell_type": "code",
   "execution_count": 17,
   "metadata": {},
   "outputs": [
    {
     "name": "stdout",
     "output_type": "stream",
     "text": [
      "Cora : 0.16765451431274414\n",
      "CiteSeer : 0.19063380360603333\n",
      "PubMed : 0.2718951106071472\n"
     ]
    }
   ],
   "source": [
    "dataset_name_ls = ['Cora', 'CiteSeer', 'PubMed']\n",
    "for dataset_name in dataset_name_ls:\n",
    "    source = Planetoid(root='../data', name=dataset_name)\n",
    "    data = source[0]\n",
    "    print(dataset_name, \":\", homophily_score(data))"
   ]
  },
  {
   "cell_type": "code",
   "execution_count": 3,
   "metadata": {},
   "outputs": [
    {
     "name": "stdout",
     "output_type": "stream",
     "text": [
      "Cora: 0.16765451431274414\n",
      "CiteSeer: 0.19063380360603333\n",
      "PubMed: 0.2718951106071472\n"
     ]
    }
   ],
   "source": [
    "dataset_name_ls = ['Cora', 'CiteSeer', 'PubMed']\n",
    "norm_x_ls = []\n",
    "for dataset_name in dataset_name_ls:\n",
    "    source = Planetoid(root='../data', name=dataset_name)\n",
    "    data = source[0]\n",
    "    X = data.x\n",
    "    y = data.y\n",
    "    # Delta = y.unsqueeze(1) == y.unsqueeze(0)\n",
    "    norm_x_ls.append(torch.linalg.norm(X, ord=2, dim=1))\n",
    "    normed_X = X / (norm_x_ls[-1].unsqueeze(1) + 1e-6)\n",
    "    # print(torch.allclose(torch.linalg.norm(normed_X, ord=2, dim=1), torch.ones(normed_X.size(0))))\n",
    "    A = pyg.utils.to_dense_adj(data.edge_index).squeeze()\n",
    "    H_score = torch.trace(A @ normed_X @ normed_X.T) / data.num_edges\n",
    "    print(f'{dataset_name}: {H_score}')"
   ]
  },
  {
   "cell_type": "code",
   "execution_count": 4,
   "metadata": {},
   "outputs": [
    {
     "name": "stdout",
     "output_type": "stream",
     "text": [
      "Cora: max=5.4772257804870605, min=1.0, median=4.4721360206604\n",
      "CiteSeer: max=7.348469257354736, min=0.0, median=5.656854152679443\n",
      "PubMed: max=1.2907483577728271, min=0.20112761855125427, median=0.37067756056785583\n"
     ]
    },
    {
     "data": {
      "text/plain": [
       "<matplotlib.legend.Legend at 0x7f9dd1977b50>"
      ]
     },
     "execution_count": 4,
     "metadata": {},
     "output_type": "execute_result"
    },
    {
     "data": {
      "image/png": "[encoded data removed]",
      "text/plain": [
       "<Figure size 640x480 with 1 Axes>"
      ]
     },
     "metadata": {},
     "output_type": "display_data"
    }
   ],
   "source": [
    "for dataset_name, norm_x in zip(dataset_name_ls, norm_x_ls):\n",
    "    print(f'{dataset_name}: max={torch.max(norm_x)}, min={torch.min(norm_x)}, median={torch.median(norm_x)}')\n",
    "    sns.histplot(norm_x, kde=True, label=dataset_name)\n",
    "plt.legend()"
   ]
  },
  {
   "cell_type": "code",
   "execution_count": 8,
   "metadata": {},
   "outputs": [
    {
     "data": {
      "text/plain": [
       "tensor([[0, 0, 1, 2],\n",
       "        [0, 1, 1, 2]])"
      ]
     },
     "execution_count": 8,
     "metadata": {},
     "output_type": "execute_result"
    }
   ],
   "source": [
    "A = torch.eye(3)\n",
    "A[0, 1] = 1\n",
    "torch.vstack(torch.where(A))"
   ]
  },
  {
   "cell_type": "code",
   "execution_count": null,
   "metadata": {},
   "outputs": [],
   "source": []
  },
  {
   "cell_type": "code",
   "execution_count": 8,
   "metadata": {},
   "outputs": [],
   "source": [
    "class GraphNodeSampler: # down sample graph according to leverage score, both threshold and number of excluded nodes are supported\n",
    "    def __init__(self, data:torch_geometric.data.data.Data, threshold=0.2, num_excluded=100) -> None:\n",
    "        self.data = data\n",
    "        self.threshold = threshold\n",
    "        self.num_excluded = num_excluded\n",
    "        self.n = data.num_nodes\n",
    "        self.leverage_score = self.compute_leverage_score()\n",
    "\n",
    "    def compute_leverage_score(self, x=None):\n",
    "        if x is None:\n",
    "            x = self.data.x\n",
    "        print(\"calculating hat matrix\\n\\n...\\n\")\n",
    "        H = x @ torch.linalg.pinv(x.T @ x) @ x.T\n",
    "        leverage_score = torch.diag(H)\n",
    "        print(\"leverage_score computed\")\n",
    "        return leverage_score\n",
    "\n",
    "    def get_idx_by_threshold(self, threshold=None):\n",
    "        if threshold is None:\n",
    "            threshold = self.threshold\n",
    "        idx = torch.where(self.leverage_score < threshold)[0]\n",
    "        print(f\"{len(idx)}, {len(idx) / self.n * 100:.2f}% nodes are excluded\")\n",
    "        return idx\n",
    "    \n",
    "    def get_idx_by_num_excluded(self, num_excluded=None):\n",
    "        if num_excluded is None:\n",
    "            num_excluded = self.num_excluded\n",
    "        return torch.topk(self.leverage_score, num_excluded, largest=False)[1]\n",
    "    \n",
    "    def sample(self, idx):\n",
    "        full_size_idx = torch.ones(self.n, dtype=torch.bool)\n",
    "        full_size_idx[idx] = False\n",
    "        train_mask = self.data.train_mask & full_size_idx\n",
    "        test_mask = self.data.test_mask & full_size_idx\n",
    "        val_mask = self.data.val_mask & full_size_idx\n",
    "        edge_index = pyg.utils.subgraph(idx, self.data.edge_index)[0]\n",
    "        print(f\"sampled training set size: {train_mask.sum()}, new test set size: {test_mask.sum()}, new val set size: {val_mask.sum()}\")\n",
    "        print(f\"original: training set size: {self.data.train_mask.sum()}, original test set size: {self.data.test_mask.sum()}, original val set size: {self.data.val_mask.sum()}\")\n",
    "        print(f\"percentage preserved: training set: {train_mask.sum() / self.data.train_mask.sum() * 100:.2f}%, test set: {test_mask.sum() / self.data.test_mask.sum() * 100:.2f}%, val set: {val_mask.sum() / self.data.val_mask.sum() * 100:.2f}%\")\n",
    "        return pyg.data.Data(x=self.data.x, edge_index=edge_index, y=self.data.y, train_mask=train_mask, test_mask=test_mask, val_mask=val_mask)"
   ]
  },
  {
   "cell_type": "code",
   "execution_count": 9,
   "metadata": {},
   "outputs": [
    {
     "data": {
      "text/plain": [
       "tensor([ True, False, False])"
      ]
     },
     "execution_count": 9,
     "metadata": {},
     "output_type": "execute_result"
    }
   ],
   "source": [
    "torch.tensor([True, False, True]) & torch.tensor([True, True, False])"
   ]
  },
  {
   "cell_type": "code",
   "execution_count": 10,
   "metadata": {},
   "outputs": [],
   "source": [
    "class GConvModel(nn.Module):\n",
    "    def __init__(self, input_dim, hidden_dim, output_dim):\n",
    "        super(GConvModel, self).__init__()\n",
    "        self.conv1 = pyg.nn.GCNConv(input_dim, hidden_dim)\n",
    "        self.conv2 = pyg.nn.GCNConv(hidden_dim, hidden_dim)\n",
    "        self.fc = nn.Linear(hidden_dim, output_dim)\n",
    "    \n",
    "    def forward(self, data):\n",
    "        x, edge_index = data.x, data.edge_index\n",
    "        x = F.relu(self.conv1(x, edge_index))\n",
    "        x = F.relu(self.conv2(x, edge_index))\n",
    "        x = self.fc(x)\n",
    "        return F.log_softmax(x, dim=1)"
   ]
  },
  {
   "cell_type": "code",
   "execution_count": 11,
   "metadata": {},
   "outputs": [
    {
     "name": "stdout",
     "output_type": "stream",
     "text": [
      "calculating hat matrix\n",
      "\n",
      "...\n",
      "\n"
     ]
    },
    {
     "name": "stdout",
     "output_type": "stream",
     "text": [
      "leverage_score computed\n",
      "19717, 100.00% nodes are excluded\n",
      "sampled training set size: 0, new test set size: 0, new val set size: 0\n",
      "original: training set size: 60, original test set size: 1000, original val set size: 500\n",
      "percentage preserved: training set: 0.00%, test set: 0.00%, val set: 0.00%\n"
     ]
    }
   ],
   "source": [
    "sampler = GraphNodeSampler(data, threshold=0.2)\n",
    "idx = sampler.get_idx_by_threshold()\n",
    "sampled_data = sampler.sample(idx)"
   ]
  },
  {
   "cell_type": "code",
   "execution_count": 12,
   "metadata": {},
   "outputs": [
    {
     "data": {
      "text/plain": [
       "(tensor(0), tensor(0), tensor(0))"
      ]
     },
     "execution_count": 12,
     "metadata": {},
     "output_type": "execute_result"
    }
   ],
   "source": [
    "(sampled_data.train_mask).sum(), (sampled_data.test_mask).sum(), (sampled_data.val_mask).sum()"
   ]
  },
  {
   "cell_type": "code",
   "execution_count": 13,
   "metadata": {},
   "outputs": [
    {
     "data": {
      "text/plain": [
       "tensor(60)"
      ]
     },
     "execution_count": 13,
     "metadata": {},
     "output_type": "execute_result"
    }
   ],
   "source": [
    "data.train_mask.sum()"
   ]
  }
 ],
 "metadata": {
  "kernelspec": {
   "display_name": "pytorch",
   "language": "python",
   "name": "python3"
  },
  "language_info": {
   "codemirror_mode": {
    "name": "ipython",
    "version": 3
   },
   "file_extension": ".py",
   "mimetype": "text/x-python",
   "name": "python",
   "nbconvert_exporter": "python",
   "pygments_lexer": "ipython3",
   "version": "3.11.5"
  }
 },
 "nbformat": 4,
 "nbformat_minor": 2
}
