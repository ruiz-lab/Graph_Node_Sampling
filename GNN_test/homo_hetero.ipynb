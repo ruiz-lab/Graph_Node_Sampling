{
 "cells": [
  {
   "cell_type": "code",
   "execution_count": 1,
   "metadata": {},
   "outputs": [
    {
     "name": "stderr",
     "output_type": "stream",
     "text": [
      "/home/jamesl/anaconda3/envs/pytorch/lib/python3.11/site-packages/tqdm/auto.py:21: TqdmWarning: IProgress not found. Please update jupyter and ipywidgets. See https://ipywidgets.readthedocs.io/en/stable/user_install.html\n",
      "  from .autonotebook import tqdm as notebook_tqdm\n"
     ]
    }
   ],
   "source": [
    "import torch_geometric as pyg\n",
    "from torch_geometric.datasets import Planetoid\n",
    "from torch_geometric.data import Data\n",
    "import torch\n",
    "import torch.nn as nn\n",
    "import dgl\n",
    "import numpy as np\n",
    "import seaborn as sns\n",
    "from utils import *"
   ]
  },
  {
   "cell_type": "code",
   "execution_count": 2,
   "metadata": {},
   "outputs": [],
   "source": [
    "def convert_dgl_to_pyg(dgl_dataset):\n",
    "    # Assuming the DGL dataset has only one graph for simplicity\n",
    "    dgl_graph = dgl_dataset[0]\n",
    "\n",
    "    # Convert edge indices from DGL to PyG format\n",
    "    src, dst = dgl_graph.edges()\n",
    "    edge_index = torch.stack([src, dst], dim=0)\n",
    "\n",
    "    # Extract node features\n",
    "    # Assuming 'feat' is the name of the node features in the DGL graph\n",
    "    if 'feat' in dgl_graph.ndata:\n",
    "        x = dgl_graph.ndata['feat']\n",
    "    else:\n",
    "        raise ValueError(\"Node features 'feat' not found in the DGL graph.\")\n",
    "\n",
    "    # Extract labels\n",
    "    # Assuming 'label' is the name of the node labels in the DGL graph\n",
    "    if 'label' in dgl_graph.ndata:\n",
    "        y = dgl_graph.ndata['label']\n",
    "    else:\n",
    "        raise ValueError(\"Node labels 'label' not found in the DGL graph.\")\n",
    "    \n",
    "    # Create the PyTorch Geometric Data object\n",
    "    pyg_data = Data(x=x, edge_index=edge_index, y=y)\n",
    "\n",
    "    return pyg_data"
   ]
  },
  {
   "cell_type": "code",
   "execution_count": 3,
   "metadata": {},
   "outputs": [],
   "source": [
    "def edge_homophily(data:Data):\n",
    "    # device = 'cuda' if torch.cuda.is_available() else 'cpu'\n",
    "    edge_index = data.edge_index\n",
    "    # edge_index = edge_index.to(device)\n",
    "    y = data.y\n",
    "    # y = y.to(device)\n",
    "    y_y = y.unsqueeze(0) == y.unsqueeze(1)\n",
    "    edge_homophily = torch.sum(y_y[edge_index[0], edge_index[1]]).item()\n",
    "    # edge_index.detach().cpu()\n",
    "    # y.detach().cpu()\n",
    "    return edge_homophily / edge_index.shape[1]"
   ]
  },
  {
   "cell_type": "code",
   "execution_count": 4,
   "metadata": {},
   "outputs": [
    {
     "name": "stdout",
     "output_type": "stream",
     "text": [
      "Done loading data from cached files.\n"
     ]
    }
   ],
   "source": [
    "dataset = dgl.data.SquirrelDataset()"
   ]
  },
  {
   "cell_type": "code",
   "execution_count": 5,
   "metadata": {},
   "outputs": [
    {
     "name": "stdout",
     "output_type": "stream",
     "text": [
      "0.8099658961727927\n"
     ]
    },
    {
     "data": {
      "text/plain": [
       "0.2239430974833351"
      ]
     },
     "execution_count": 5,
     "metadata": {},
     "output_type": "execute_result"
    }
   ],
   "source": [
    "data = convert_dgl_to_pyg(dataset)\n",
    "cora = Planetoid(root='data', name='Cora')\n",
    "print(edge_homophily(cora))\n",
    "edge_homophily(data)"
   ]
  },
  {
   "cell_type": "code",
   "execution_count": 6,
   "metadata": {},
   "outputs": [
    {
     "name": "stdout",
     "output_type": "stream",
     "text": [
      "Done loading data from cached files.\n"
     ]
    },
    {
     "data": {
      "text/plain": [
       "(tensor([0., 1.]), tensor([10771412,    93477]))"
      ]
     },
     "execution_count": 6,
     "metadata": {},
     "output_type": "execute_result"
    }
   ],
   "source": [
    "dataset = dgl.data.SquirrelDataset()\n",
    "data = convert_dgl_to_pyg(dataset)\n",
    "torch.unique(data.x, return_counts=True)"
   ]
  },
  {
   "cell_type": "code",
   "execution_count": 7,
   "metadata": {},
   "outputs": [
    {
     "name": "stderr",
     "output_type": "stream",
     "text": [
      "  0%|          | 0/8 [00:00<?, ?it/s]"
     ]
    },
    {
     "name": "stdout",
     "output_type": "stream",
     "text": [
      "  NumNodes: 2708\n",
      "  NumEdges: 10556\n",
      "  NumFeats: 1433\n",
      "  NumClasses: 7\n",
      "  NumTrainingSamples: 140\n",
      "  NumValidationSamples: 500\n",
      "  NumTestSamples: 1000\n",
      "Done loading data from cached files.\n",
      "  NumNodes: 3327\n",
      "  NumEdges: 9228\n",
      "  NumFeats: 3703\n",
      "  NumClasses: 6\n",
      "  NumTrainingSamples: 120\n",
      "  NumValidationSamples: 500\n",
      "  NumTestSamples: 1000\n",
      "Done loading data from cached files.\n"
     ]
    },
    {
     "name": "stderr",
     "output_type": "stream",
     "text": [
      " 25%|██▌       | 2/8 [00:00<00:00,  6.09it/s]"
     ]
    },
    {
     "name": "stdout",
     "output_type": "stream",
     "text": [
      "  NumNodes: 19717\n",
      "  NumEdges: 88651\n",
      "  NumFeats: 500\n",
      "  NumClasses: 3\n",
      "  NumTrainingSamples: 60\n",
      "  NumValidationSamples: 500\n",
      "  NumTestSamples: 1000\n",
      "Done loading data from cached files.\n"
     ]
    },
    {
     "name": "stderr",
     "output_type": "stream",
     "text": [
      " 75%|███████▌  | 6/8 [00:01<00:00,  3.78it/s]"
     ]
    },
    {
     "name": "stdout",
     "output_type": "stream",
     "text": [
      "Done loading data from cached files.\n",
      "Done loading data from cached files.\n",
      "Done loading data from cached files.\n",
      "Done loading data from cached files.\n"
     ]
    },
    {
     "name": "stderr",
     "output_type": "stream",
     "text": [
      "100%|██████████| 8/8 [00:04<00:00,  1.90it/s]"
     ]
    },
    {
     "name": "stdout",
     "output_type": "stream",
     "text": [
      "Done loading data from cached files.\n"
     ]
    },
    {
     "name": "stderr",
     "output_type": "stream",
     "text": [
      "\n"
     ]
    }
   ],
   "source": [
    "from tqdm import tqdm\n",
    "dataset_name_ls = ['CoraGraphDataset', 'CiteseerGraphDataset', 'PubmedGraphDataset', 'TexasDataset', 'WisconsinDataset', 'CornellDataset', 'SquirrelDataset', 'ChameleonDataset']\n",
    "edge_homo_ls = []\n",
    "feat_homo_ls = []\n",
    "for dataset_name in tqdm(dataset_name_ls):\n",
    "    dataset = dgl.data.__getattribute__(dataset_name)()\n",
    "    data = convert_dgl_to_pyg(dataset)\n",
    "    edge_homo = edge_homophily(data)\n",
    "    feat_homo = feature_homophily_score(data)\n",
    "    edge_homo_ls.append(edge_homo)\n",
    "    feat_homo_ls.append(feat_homo)\n",
    "with open('homo_hetro_csv/edge_feat_homophily_scores.csv', 'w') as f:\n",
    "    f.write('dataset,edge_homophily,feat_homophily\\n')\n",
    "    for name, edge, feat in zip(dataset_name_ls, edge_homo_ls, feat_homo_ls):\n",
    "        f.write(','.join([name, str(edge), str(feat)]) + '\\n')"
   ]
  },
  {
   "cell_type": "code",
   "execution_count": 8,
   "metadata": {},
   "outputs": [
    {
     "name": "stderr",
     "output_type": "stream",
     "text": [
      "  0%|          | 0/8 [00:00<?, ?it/s]"
     ]
    },
    {
     "name": "stdout",
     "output_type": "stream",
     "text": [
      "  NumNodes: 2708\n",
      "  NumEdges: 10556\n",
      "  NumFeats: 1433\n",
      "  NumClasses: 7\n",
      "  NumTrainingSamples: 140\n",
      "  NumValidationSamples: 500\n",
      "  NumTestSamples: 1000\n",
      "Done loading data from cached files.\n"
     ]
    },
    {
     "name": "stderr",
     "output_type": "stream",
     "text": [
      " 12%|█▎        | 1/8 [00:00<00:02,  3.06it/s]"
     ]
    },
    {
     "name": "stdout",
     "output_type": "stream",
     "text": [
      "  NumNodes: 3327\n",
      "  NumEdges: 9228\n",
      "  NumFeats: 3703\n",
      "  NumClasses: 6\n",
      "  NumTrainingSamples: 120\n",
      "  NumValidationSamples: 500\n",
      "  NumTestSamples: 1000\n",
      "Done loading data from cached files.\n"
     ]
    },
    {
     "name": "stderr",
     "output_type": "stream",
     "text": [
      " 38%|███▊      | 3/8 [00:02<00:03,  1.32it/s]"
     ]
    },
    {
     "name": "stdout",
     "output_type": "stream",
     "text": [
      "  NumNodes: 19717\n",
      "  NumEdges: 88651\n",
      "  NumFeats: 500\n",
      "  NumClasses: 3\n",
      "  NumTrainingSamples: 60\n",
      "  NumValidationSamples: 500\n",
      "  NumTestSamples: 1000\n",
      "Done loading data from cached files.\n",
      "Done loading data from cached files.\n"
     ]
    },
    {
     "name": "stderr",
     "output_type": "stream",
     "text": [
      " 62%|██████▎   | 5/8 [00:02<00:01,  2.76it/s]"
     ]
    },
    {
     "name": "stdout",
     "output_type": "stream",
     "text": [
      "Done loading data from cached files.\n",
      "Done loading data from cached files.\n",
      "Done loading data from cached files.\n"
     ]
    },
    {
     "name": "stderr",
     "output_type": "stream",
     "text": [
      " 88%|████████▊ | 7/8 [00:04<00:00,  1.51it/s]"
     ]
    },
    {
     "name": "stdout",
     "output_type": "stream",
     "text": [
      "Done loading data from cached files.\n"
     ]
    },
    {
     "name": "stderr",
     "output_type": "stream",
     "text": [
      "100%|██████████| 8/8 [00:05<00:00,  1.47it/s]\n"
     ]
    }
   ],
   "source": [
    "lev_score_ls = []\n",
    "for dataset_name in tqdm(dataset_name_ls):\n",
    "    dataset = dgl.data.__getattribute__(dataset_name)()\n",
    "    data = convert_dgl_to_pyg(dataset)\n",
    "    lev_score = leverage_score(data)\n",
    "    lev_score_ls.append(lev_score)\n",
    "lev_img_path = 'img/leverage_score_distribution/'\n",
    "for name, lev_score in zip(dataset_name_ls, lev_score_ls):\n",
    "    sns.histplot(lev_score)\n",
    "    plt.xlabel('leverage score')\n",
    "    plt.xlim(-0.05, 1.05)\n",
    "    plt.title(name + 'leverage score')\n",
    "    plt.savefig(lev_img_path + name + '_leverage_score_dist.png')\n",
    "    plt.close()"
   ]
  },
  {
   "cell_type": "code",
   "execution_count": 9,
   "metadata": {},
   "outputs": [],
   "source": [
    "import re\n",
    "def plot_double_bars(names, list1, list2):\n",
    "    \"\"\"\n",
    "    Plots a bar chart with two bars for each name, representing values from list1 and list2.\n",
    "\n",
    "    Parameters:\n",
    "    - names: List of names (strings).\n",
    "    - list1: List of numbers corresponding to the first group.\n",
    "    - list2: List of numbers corresponding to the second group.\n",
    "    \"\"\"\n",
    "    # Check if the lengths of the lists match\n",
    "    if not (len(names) == len(list1) == len(list2)):\n",
    "        raise ValueError(\"All input lists must have the same length.\")\n",
    "    \n",
    "    # Create an index for each tick position\n",
    "    x = np.arange(len(names))\n",
    "    \n",
    "    # Bar width\n",
    "    width = 0.35  \n",
    "    fig, ax = plt.subplots(figsize=(10, 6))\n",
    "    bars1 = ax.bar(x - width/2, np.round(list1, 2), width, label='edge homophily')\n",
    "    bars2 = ax.bar(x + width/2, np.round(list2, 2), width, label='feat homophily')\n",
    "    \n",
    "    # Adding some text for labels, title, and custom x-axis tick labels, etc.\n",
    "    ax.set_xlabel('Datasets')\n",
    "    ax.set_ylabel('Homophily Score')\n",
    "    ax.set_title('Homophily Scores of Datasets')\n",
    "    ax.set_xticks(x)\n",
    "    pattern = re.compile(r'(Graph)?Dataset')\n",
    "    ax.set_xticklabels([pattern.sub('', name) for name in names])\n",
    "    ax.legend()\n",
    "    \n",
    "    # Attach a text label above each bar in *bars1* and *bars2*, displaying its height.\n",
    "    for bars in [bars1, bars2]:\n",
    "        for bar in bars:\n",
    "            height = bar.get_height()\n",
    "            ax.annotate('{}'.format(height),\n",
    "                        xy=(bar.get_x() + bar.get_width() / 2, height),\n",
    "                        xytext=(0, 3),  # 3 points vertical offset\n",
    "                        textcoords=\"offset points\",\n",
    "                        ha='center', va='bottom')\n",
    "    plt.savefig('img/homophily_score_distribution/homophily_vs_all_datasets.png')\n",
    "    plt.show()"
   ]
  },
  {
   "cell_type": "code",
   "execution_count": 10,
   "metadata": {},
   "outputs": [
    {
     "data": {
      "image/png": "[encoded data removed]",
      "text/plain": [
       "<Figure size 1000x600 with 1 Axes>"
      ]
     },
     "metadata": {},
     "output_type": "display_data"
    }
   ],
   "source": [
    "plot_double_bars(dataset_name_ls, edge_homo_ls, feat_homo_ls)"
   ]
  },
  {
   "cell_type": "code",
   "execution_count": 11,
   "metadata": {},
   "outputs": [
    {
     "name": "stderr",
     "output_type": "stream",
     "text": [
      "  0%|          | 0/8 [00:00<?, ?it/s]"
     ]
    },
    {
     "name": "stdout",
     "output_type": "stream",
     "text": [
      "  NumNodes: 2708\n",
      "  NumEdges: 10556\n",
      "  NumFeats: 1433\n",
      "  NumClasses: 7\n",
      "  NumTrainingSamples: 140\n",
      "  NumValidationSamples: 500\n",
      "  NumTestSamples: 1000\n",
      "Done loading data from cached files.\n",
      "  NumNodes: 3327\n",
      "  NumEdges: 9228\n",
      "  NumFeats: 3703\n",
      "  NumClasses: 6\n",
      "  NumTrainingSamples: 120\n",
      "  NumValidationSamples: 500\n",
      "  NumTestSamples: 1000\n",
      "Done loading data from cached files.\n"
     ]
    },
    {
     "name": "stderr",
     "output_type": "stream",
     "text": [
      " 25%|██▌       | 2/8 [00:00<00:00,  6.15it/s]"
     ]
    },
    {
     "name": "stdout",
     "output_type": "stream",
     "text": [
      "  NumNodes: 19717\n",
      "  NumEdges: 88651\n",
      "  NumFeats: 500\n",
      "  NumClasses: 3\n",
      "  NumTrainingSamples: 60\n",
      "  NumValidationSamples: 500\n",
      "  NumTestSamples: 1000\n",
      "Done loading data from cached files.\n"
     ]
    },
    {
     "name": "stderr",
     "output_type": "stream",
     "text": [
      " 50%|█████     | 4/8 [00:01<00:01,  2.55it/s]"
     ]
    },
    {
     "name": "stdout",
     "output_type": "stream",
     "text": [
      "Done loading data from cached files.\n",
      "Done loading data from cached files.\n",
      "Done loading data from cached files.\n"
     ]
    },
    {
     "name": "stderr",
     "output_type": "stream",
     "text": [
      " 88%|████████▊ | 7/8 [00:03<00:00,  2.03it/s]"
     ]
    },
    {
     "name": "stdout",
     "output_type": "stream",
     "text": [
      "Done loading data from cached files.\n"
     ]
    },
    {
     "name": "stderr",
     "output_type": "stream",
     "text": [
      "100%|██████████| 8/8 [00:03<00:00,  2.09it/s]"
     ]
    },
    {
     "name": "stdout",
     "output_type": "stream",
     "text": [
      "Done loading data from cached files.\n"
     ]
    },
    {
     "name": "stderr",
     "output_type": "stream",
     "text": [
      "\n"
     ]
    }
   ],
   "source": [
    "product_ls = []\n",
    "for dataset_name in tqdm(dataset_name_ls):\n",
    "    dataset = dgl.data.__getattribute__(dataset_name)()\n",
    "    data = convert_dgl_to_pyg(dataset)\n",
    "    X = data.x\n",
    "    norm = torch.norm(X, dim=1)\n",
    "    normed_X = X / norm.unsqueeze(1)\n",
    "    XXT = normed_X @ normed_X.T\n",
    "    n = X.shape[0]\n",
    "    product = torch.zeros((n**2 - n)//2)\n",
    "    prev_pos = 0\n",
    "    crnt_pos = 0\n",
    "    for i in range(X.shape[0]-1):\n",
    "        prev_pos = crnt_pos\n",
    "        crnt_pos += n-1-i\n",
    "        product[prev_pos:crnt_pos] = XXT[i, i+1:]\n",
    "    product = product[torch.nonzero(product)]\n",
    "    product_ls.append(product)"
   ]
  },
  {
   "cell_type": "code",
   "execution_count": 12,
   "metadata": {},
   "outputs": [
    {
     "name": "stderr",
     "output_type": "stream",
     "text": [
      "No artists with labels found to put in legend.  Note that artists whose label start with an underscore are ignored when legend() is called with no argument.\n",
      "No artists with labels found to put in legend.  Note that artists whose label start with an underscore are ignored when legend() is called with no argument.\n",
      "No artists with labels found to put in legend.  Note that artists whose label start with an underscore are ignored when legend() is called with no argument.\n",
      "No artists with labels found to put in legend.  Note that artists whose label start with an underscore are ignored when legend() is called with no argument.\n",
      "No artists with labels found to put in legend.  Note that artists whose label start with an underscore are ignored when legend() is called with no argument.\n",
      "No artists with labels found to put in legend.  Note that artists whose label start with an underscore are ignored when legend() is called with no argument.\n",
      "No artists with labels found to put in legend.  Note that artists whose label start with an underscore are ignored when legend() is called with no argument.\n",
      "No artists with labels found to put in legend.  Note that artists whose label start with an underscore are ignored when legend() is called with no argument.\n"
     ]
    }
   ],
   "source": [
    "pattern = re.compile(r'(Graph)?Dataset')\n",
    "for name, product in zip(dataset_name_ls, product_ls):\n",
    "    sns.histplot(product)\n",
    "    plt.xlabel(\"product\")\n",
    "    plt.title(fr'{name} x_i^tx_j')\n",
    "    plt.legend().remove()\n",
    "    plt.savefig(f'img/homophily_ingredient_distribution/{name}_product.png')\n",
    "    plt.close()"
   ]
  },
  {
   "cell_type": "code",
   "execution_count": 13,
   "metadata": {},
   "outputs": [
    {
     "data": {
      "text/plain": [
       "torch.Size([4113649, 1])"
      ]
     },
     "execution_count": 13,
     "metadata": {},
     "output_type": "execute_result"
    }
   ],
   "source": [
    "product_ls[-2].shape"
   ]
  },
  {
   "cell_type": "code",
   "execution_count": 14,
   "metadata": {},
   "outputs": [
    {
     "data": {
      "text/plain": [
       "tensor(0.7947)"
      ]
     },
     "execution_count": 14,
     "metadata": {},
     "output_type": "execute_result"
    }
   ],
   "source": [
    "torch.sum(product_ls[-2].squeeze() <= 1) / len(product_ls[-2])"
   ]
  },
  {
   "cell_type": "code",
   "execution_count": 17,
   "metadata": {},
   "outputs": [
    {
     "name": "stderr",
     "output_type": "stream",
     "text": [
      "No artists with labels found to put in legend.  Note that artists whose label start with an underscore are ignored when legend() is called with no argument.\n"
     ]
    }
   ],
   "source": [
    "sns.histplot(product_ls[-2])\n",
    "plt.xlabel(\"product\")\n",
    "plt.title(fr'{dataset_name_ls[-2]} x_i^tx_j')\n",
    "plt.legend().remove()\n",
    "plt.savefig(f'img/homophily_ingredient_distribution/{dataset_name_ls[-2]}_product.png')\n",
    "plt.close()"
   ]
  },
  {
   "cell_type": "code",
   "execution_count": 16,
   "metadata": {},
   "outputs": [
    {
     "data": {
      "text/plain": [
       "(tensor(nan), tensor(nan))"
      ]
     },
     "execution_count": 16,
     "metadata": {},
     "output_type": "execute_result"
    }
   ],
   "source": [
    "torch.min(product_ls[-2]), torch.max(product_ls[-2])"
   ]
  }
 ],
 "metadata": {
  "kernelspec": {
   "display_name": "pytorch",
   "language": "python",
   "name": "python3"
  },
  "language_info": {
   "codemirror_mode": {
    "name": "ipython",
    "version": 3
   },
   "file_extension": ".py",
   "mimetype": "text/x-python",
   "name": "python",
   "nbconvert_exporter": "python",
   "pygments_lexer": "ipython3",
   "version": "3.11.5"
  }
 },
 "nbformat": 4,
 "nbformat_minor": 2
}
